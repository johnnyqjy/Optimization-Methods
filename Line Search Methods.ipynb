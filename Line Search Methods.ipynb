{
 "cells": [
  {
   "cell_type": "code",
   "execution_count": 4,
   "metadata": {},
   "outputs": [],
   "source": [
    "import numpy as np  # arrays\n",
    "import matplotlib.pyplot as plt  # 2d plotting\n",
    "from mpl_toolkits.mplot3d import axes3d  # 3d plotting\n",
    "from numpy.linalg import norm\n",
    "import time"
   ]
  },
  {
   "cell_type": "markdown",
   "metadata": {},
   "source": [
    "## Problem 1"
   ]
  },
  {
   "cell_type": "code",
   "execution_count": 35,
   "metadata": {},
   "outputs": [],
   "source": [
    "def QObjFunc(x): # f\n",
    "    return (x[0] - 1)**2 + (2*x[1] - 1)**2\n",
    "def QGradObjFunc(x): # gradient of f\n",
    "    return np.array([2*(x[0] - 1), 2*(2*x[1] - 1)])"
   ]
  },
  {
   "cell_type": "code",
   "execution_count": 36,
   "metadata": {},
   "outputs": [],
   "source": [
    "def fixed_step_steepest_decent_method(objFunc, gradObjFunc, alpha, x0, tol, maxIter):\n",
    "  path = [x0]\n",
    "  k = 0\n",
    "  xk = x0\n",
    "  pk = -gradObjFunc(x0)\n",
    "  while norm(pk) > tol and k <= maxIter:\n",
    "    xk = xk + alpha * pk # alpha is fixed: alpha = 0.01\n",
    "    pk = -gradObjFunc(xk)\n",
    "    k = k + 1\n",
    "    path.append(xk)\n",
    "\n",
    "  path = np.array(path) # convert to array\n",
    "\n",
    "  if norm(pk) <= tol:\n",
    "     print(\"Found the minimizer at {x} with {iter} iterations successfully, \\\n",
    "gradient's norm is {nrm}.\".format(x=xk,iter=k,nrm=norm(pk)))\n",
    "  else:\n",
    "     print(\"Unable to locate minimizer within maximum iterations, last \\\n",
    "position is at {x}, gradient's norm is {nrm}\".format(x=xk,nrm=norm(pk)))\n",
    "\n",
    "  return xk, k, path"
   ]
  },
  {
   "cell_type": "code",
   "execution_count": 37,
   "metadata": {},
   "outputs": [
    {
     "name": "stdout",
     "output_type": "stream",
     "text": [
      "Found the minimizer at [1.  0.5] with 23 iterations successfully, gradient's norm is 4.222124871944294e-09.\n"
     ]
    }
   ],
   "source": [
    "alpha = 0.3 #I chose this value because it is approximately in the middle of the range of alpha\n",
    "tol = 1e-8\n",
    "x0 = np.array([4, 1])\n",
    "maxIter = 1e6\n",
    "\n",
    "x_2, iter_2, path_2 = fixed_step_steepest_decent_method(QObjFunc, QGradObjFunc, alpha, x0, tol, maxIter)"
   ]
  },
  {
   "cell_type": "code",
   "execution_count": 38,
   "metadata": {},
   "outputs": [
    {
     "data": {
      "text/plain": [
       "0.39999999439031875"
      ]
     },
     "execution_count": 38,
     "metadata": {},
     "output_type": "execute_result"
    }
   ],
   "source": [
    "err = np.linalg.norm(np.diff(path_2,axis=0),axis=1) # ||x_{k+1}-x_k||\n",
    "err[-1]/err[-2]   # limit value"
   ]
  },
  {
   "cell_type": "code",
   "execution_count": 39,
   "metadata": {
    "scrolled": true
   },
   "outputs": [
    {
     "name": "stdout",
     "output_type": "stream",
     "text": [
      "Found the minimizer at [1.  0.5] with 40 iterations successfully, gradient's norm is 8.020496711225178e-09.\n"
     ]
    },
    {
     "data": {
      "text/plain": [
       "0.6000000199329446"
      ]
     },
     "execution_count": 39,
     "metadata": {},
     "output_type": "execute_result"
    }
   ],
   "source": [
    "alpha_2 = 0.2 \n",
    "x_3, iter_3, path_3 = fixed_step_steepest_decent_method(QObjFunc, QGradObjFunc, alpha_2, x0, tol, maxIter)\n",
    "err = np.linalg.norm(np.diff(path_3,axis=0),axis=1) # ||x_{k+1}-x_k||\n",
    "err[-1]/err[-2]   # limit value"
   ]
  },
  {
   "cell_type": "markdown",
   "metadata": {},
   "source": [
    "## Problem 2 Newton's Method"
   ]
  },
  {
   "cell_type": "code",
   "execution_count": 5,
   "metadata": {},
   "outputs": [],
   "source": [
    "def WolfeI(alpha,f,x,y,dx,p,c1=0.1):\n",
    "    '''Return True/False if Wolfe condition I is satisfied for the given alpha'''\n",
    "    LHS = f(x+alpha*p[0], y+alpha*p[1])\n",
    "    RHS = f(x,y)-c1*alpha*np.dot(dx,p)\n",
    "    return LHS <= RHS"
   ]
  },
  {
   "cell_type": "code",
   "execution_count": 6,
   "metadata": {},
   "outputs": [],
   "source": [
    "a,b = 1,100    # parameters for Rosenbrock function\n",
    "f = lambda x,y: (a-x)**2+b*(y-x**2)**2\n",
    "Df = lambda x,y: np.array([2*(x-a)-4*b*x*(y-x**2),\n",
    "                           2*b*(y-x**2)])\n",
    "D2f = lambda x,y: np.array([[2-4*b*y+12*b*x**2,-4*b*x],\n",
    "                            [-4*b*x,2*b]])"
   ]
  },
  {
   "cell_type": "code",
   "execution_count": 7,
   "metadata": {
    "scrolled": true
   },
   "outputs": [
    {
     "name": "stdout",
     "output_type": "stream",
     "text": [
      "In iteration 1, alpha=1 after 0 backtracks, and newx=1.1959183673469387\n",
      "In iteration 2, alpha=0.5625 after 2 backtracks, and newx=1.0860802602485584\n",
      "In iteration 3, alpha=1 after 0 backtracks, and newx=1.0608688670326778\n",
      "In iteration 4, alpha=1 after 0 backtracks, and newx=1.0068651122729955\n",
      "In iteration 5, alpha=1 after 0 backtracks, and newx=1.002529108862995\n",
      "In iteration 6, alpha=1 after 0 backtracks, and newx=1.000009474292406\n",
      "In iteration 7, alpha=1 after 0 backtracks, and newx=1.0000000120143648\n",
      "In iteration 8, alpha=1 after 0 backtracks, and newx=1.0000000000000002\n",
      "After 8 iterations, approximate minimum is 4.930380657631324e-32 at (1.0000000000000002, 1.0000000000000004)\n"
     ]
    }
   ],
   "source": [
    "x,y = 1.2,1.2    # initial point\n",
    "path_Newton = [[x,y]]\n",
    "tol = 1e-8            # stop when gradient is smaller than this amount\n",
    "max_steps = 10000     # Maximum number of steps to run the iteration\n",
    "rho = 0.75            # rho for backtracking\n",
    "i=0                   # iteration count\n",
    "dx = Df(x,y)          # current gradient\n",
    "while np.linalg.norm(dx)>tol and i<max_steps:\n",
    "    pk = -np.linalg.solve(D2f(x,y),dx)  # faster to solve a system than manually invert\n",
    "    alpha = 1\n",
    "    j = 0   # keep track of how many backtracking iterations\n",
    "    while not WolfeI(alpha,f,x,y,dx,pk):\n",
    "        alpha *= rho\n",
    "        j += 1\n",
    "        if i == 0:\n",
    "            print(f'In iteration {i}, 1st backtrack: alpha={alpha}')\n",
    "    xnew,ynew = x + alpha*pk[0], y + alpha*pk[1]\n",
    "    path_Newton.append([xnew,ynew])\n",
    "    x,y = xnew,ynew\n",
    "    dx = Df(x,y)\n",
    "    i += 1\n",
    "    print(f'In iteration {i}, alpha={alpha} after {j} backtracks, and newx={x}')\n",
    "\n",
    "path_Newton=np.array(path_Newton)\n",
    "print(f'After {i} iterations, approximate minimum is {f(x,y)} at {x,y}')"
   ]
  },
  {
   "cell_type": "markdown",
   "metadata": {},
   "source": [
    "## Problem 3 SR1"
   ]
  },
  {
   "cell_type": "code",
   "execution_count": 43,
   "metadata": {},
   "outputs": [],
   "source": [
    "def approx_convergence_rate(path, minimizer, numToAvg=100, showPlot=False):\n",
    "    '''Given a path defined by an iteration and a known minimizer, approximates convergence rate'''\n",
    "    err = np.linalg.norm(path-np.array(minimizer),axis=1) # ||x_k-x*||=e_k\n",
    "    \n",
    "    # if converged in very few steps, return infinite order\n",
    "    if len(err)<=3:\n",
    "        return np.inf\n",
    "    \n",
    "    pp = np.zeros(len(err)-3)\n",
    "    for i in range(len(err)-3):\n",
    "        pp[i] = np.log(err[i+2]/err[i+1])/np.log(err[i+1]/err[i])\n",
    "    \n",
    "    if numToAvg>len(pp):\n",
    "        # if not enough iterations to average, just average all\n",
    "        p=np.mean(pp)\n",
    "    else:\n",
    "        # return mean of last few iterations\n",
    "        p=np.mean(pp[-numToAvg:])\n",
    "        \n",
    "    # plot\n",
    "    if showPlot:\n",
    "        plt.plot(pp)\n",
    "        plt.plot(pp*0+p)\n",
    "        plt.xlabel('k')\n",
    "        plt.ylabel('p')\n",
    "        plt.title(f'p={p}')\n",
    "        plt.show()\n",
    "        \n",
    "    return p"
   ]
  },
  {
   "cell_type": "code",
   "execution_count": 44,
   "metadata": {},
   "outputs": [],
   "source": [
    "from scipy.optimize import minimize_scalar #Line search algorithm"
   ]
  },
  {
   "cell_type": "code",
   "execution_count": 45,
   "metadata": {},
   "outputs": [],
   "source": [
    "def objFunc(x): # Rosenbrock \n",
    "    return 100*(x[1] - x[0]**2)**2 + (1 - x[0])**2\n",
    "def GradObjFunc(x): # gradient of Rosenbrock\n",
    "    return np.array([400*x[0]**3-400*x[0]*x[1]+2*x[0]-2, -200*x[0]**2+200*x[1]])"
   ]
  },
  {
   "cell_type": "code",
   "execution_count": 46,
   "metadata": {},
   "outputs": [
    {
     "name": "stdout",
     "output_type": "stream",
     "text": [
      "After 10 iterations, approximate minimum is 1.9721522630525295e-31 at (1.0000000000000004, 1.0000000000000009)\n"
     ]
    }
   ],
   "source": [
    "x,y = 1.2,1.2    # initial point\n",
    "path_SR1 = [[x,y]]\n",
    "# same tol and max steps\n",
    "i=0                   # iteration count\n",
    "skips = 0             # keep track of how many times SR1 update is skipped\n",
    "H = np.eye(2)         # initial inverse Hessian is identity\n",
    "dx = Df(x,y)          # current gradient\n",
    "while np.linalg.norm(dx)>tol and i<max_steps:\n",
    "    pk = -H@dx\n",
    "    \n",
    "    def subproblem1D(alpha):\n",
    "      return objFunc([x,y] + alpha * pk)\n",
    "    res = minimize_scalar(subproblem1D) # scipy function to minimize objFunction w.r.t alpha\n",
    "    alpha = res.x\n",
    "                \n",
    "    xnew,ynew = x + alpha*pk[0], y + alpha*pk[1]\n",
    "    path_SR1.append([xnew,ynew])\n",
    "    \n",
    "    # secant variables\n",
    "    sk = alpha*pk         # x_{k+1}-x_k\n",
    "    yk = Df(xnew,ynew)-dx # Df_{k+1}-Df_k\n",
    "    \n",
    "    # SR1 update\n",
    "    vec = sk-H@yk     # @ is mATrix multiplication\n",
    "    denom = vec@yk    # computes dot product if two vectors\n",
    "#     print('Denominator is ',denom)   # uncomment this to do a little inspection\n",
    "    if abs(denom)>1e-8*np.linalg.norm(vec)*np.linalg.norm(yk):\n",
    "        # only update if denominator doesn't vanish\n",
    "        H += np.outer(vec,vec)/denom    # outer product of two vectors works better than a@b.T, which requires reshaping\n",
    "    else:\n",
    "        # if denominator vanishes, alert the user\n",
    "        skips += 1\n",
    "        if skips<50:\n",
    "            # set limit so we don't print too much\n",
    "            print('Skipping SR1 update in iteration',i,'. Denominator is ',denom)\n",
    "        elif skips==50:\n",
    "            print('Reached maximum number of skips; breaking loop now.')\n",
    "            break\n",
    "\n",
    "    x,y = xnew,ynew\n",
    "    dx = Df(x,y)\n",
    "    i += 1\n",
    "\n",
    "path_SR1=np.array(path_SR1)\n",
    "print(f'After {i} iterations, approximate minimum is {f(x,y)} at {x,y}')"
   ]
  },
  {
   "cell_type": "code",
   "execution_count": 47,
   "metadata": {},
   "outputs": [
    {
     "name": "stdout",
     "output_type": "stream",
     "text": [
      "Approximate convergence rate: 2.022308814658158\n"
     ]
    }
   ],
   "source": [
    "print('Approximate convergence rate:', approx_convergence_rate(path_SR1,[1,1],1))"
   ]
  },
  {
   "cell_type": "code",
   "execution_count": 48,
   "metadata": {},
   "outputs": [
    {
     "data": {
      "text/plain": [
       "0.00023157185918107678"
      ]
     },
     "execution_count": 48,
     "metadata": {},
     "output_type": "execute_result"
    }
   ],
   "source": [
    "err = np.linalg.norm(np.diff(path_SR1,axis=0),axis=1) # ||x_{k+1}-x_k||\n",
    "err[-1]/err[-2]"
   ]
  },
  {
   "cell_type": "markdown",
   "metadata": {},
   "source": [
    "Superlinear convergence rate because the limit value is close to 0"
   ]
  },
  {
   "cell_type": "code",
   "execution_count": 49,
   "metadata": {},
   "outputs": [
    {
     "name": "stdout",
     "output_type": "stream",
     "text": [
      "After 22 iterations, approximate minimum is 2.0023532838814214e-20 at (1.0000000001403417, 1.0000000002824938)\n"
     ]
    }
   ],
   "source": [
    "x,y = -1.2,1    # initial point\n",
    "path_SR1 = [[x,y]]\n",
    "# same tol and max steps\n",
    "i=0                   # iteration count\n",
    "skips = 0             # keep track of how many times SR1 update is skipped\n",
    "H = np.eye(2)         # initial inverse Hessian is identity\n",
    "dx = Df(x,y)          # current gradient\n",
    "while np.linalg.norm(dx)>tol and i<max_steps:\n",
    "    pk = -H@dx\n",
    "    \n",
    "    def subproblem1D(alpha):\n",
    "      return objFunc([x,y] + alpha * pk)\n",
    "    res = minimize_scalar(subproblem1D) # scipy function to minimize objFunction w.r.t alpha\n",
    "    alpha = res.x\n",
    "                \n",
    "    xnew,ynew = x + alpha*pk[0], y + alpha*pk[1]\n",
    "    path_SR1.append([xnew,ynew])\n",
    "    \n",
    "    # secant variables\n",
    "    sk = alpha*pk         # x_{k+1}-x_k\n",
    "    yk = Df(xnew,ynew)-dx # Df_{k+1}-Df_k\n",
    "    \n",
    "    # SR1 update\n",
    "    vec = sk-H@yk     # @ is mATrix multiplication\n",
    "    denom = vec@yk    # computes dot product if two vectors\n",
    "#     print('Denominator is ',denom)   # uncomment this to do a little inspection\n",
    "    if abs(denom)>1e-8*np.linalg.norm(vec)*np.linalg.norm(yk):\n",
    "        # only update if denominator doesn't vanish\n",
    "        H += np.outer(vec,vec)/denom    # outer product of two vectors works better than a@b.T, which requires reshaping\n",
    "    else:\n",
    "        # if denominator vanishes, alert the user\n",
    "        skips += 1\n",
    "        if skips<50:\n",
    "            # set limit so we don't print too much\n",
    "            print('Skipping SR1 update in iteration',i,'. Denominator is ',denom)\n",
    "        elif skips==50:\n",
    "            print('Reached maximum number of skips; breaking loop now.')\n",
    "            break\n",
    "\n",
    "    x,y = xnew,ynew\n",
    "    dx = Df(x,y)\n",
    "    i += 1\n",
    "\n",
    "path_SR1=np.array(path_SR1)\n",
    "print(f'After {i} iterations, approximate minimum is {f(x,y)} at {x,y}')"
   ]
  },
  {
   "cell_type": "code",
   "execution_count": 50,
   "metadata": {
    "scrolled": true
   },
   "outputs": [
    {
     "data": {
      "image/png": "[encoded data removed]",
      "text/plain": [
       "<Figure size 432x288 with 1 Axes>"
      ]
     },
     "metadata": {
      "needs_background": "light"
     },
     "output_type": "display_data"
    },
    {
     "name": "stdout",
     "output_type": "stream",
     "text": [
      "Approximate convergence rate: -8.227601851867034\n"
     ]
    }
   ],
   "source": [
    "print('Approximate convergence rate:', approx_convergence_rate(path_SR1,[1,1],1,True))"
   ]
  },
  {
   "cell_type": "code",
   "execution_count": 51,
   "metadata": {},
   "outputs": [
    {
     "data": {
      "text/plain": [
       "0.00010971334318083837"
      ]
     },
     "execution_count": 51,
     "metadata": {},
     "output_type": "execute_result"
    }
   ],
   "source": [
    "err = np.linalg.norm(np.diff(path_SR1,axis=0),axis=1) # ||x_{k+1}-x_k||\n",
    "err[-1]/err[-2]"
   ]
  },
  {
   "cell_type": "markdown",
   "metadata": {},
   "source": [
    "Superlinear convergence rate because the limit value is close to 0"
   ]
  },
  {
   "cell_type": "markdown",
   "metadata": {},
   "source": [
    "## DFP Method"
   ]
  },
  {
   "cell_type": "code",
   "execution_count": 52,
   "metadata": {},
   "outputs": [
    {
     "name": "stdout",
     "output_type": "stream",
     "text": [
      "After 10 iterations, approximate minimum is 1.9721522630525295e-31 at (1.0000000000000004, 1.0000000000000009)\n"
     ]
    }
   ],
   "source": [
    "x,y = 1.2,1.2\n",
    "path_DFP = [[x,y]]\n",
    "tol = 1e-8            # stop when gradient is smaller than this amount\n",
    "max_steps = 10000     # Maximum number of steps to run the iteration\n",
    "i=0                   # iteration count\n",
    "H = np.eye(2)         # initial inverse Hessian is identity\n",
    "dx = Df(x,y)          # current gradient\n",
    "while np.linalg.norm(dx)>tol and i<max_steps:\n",
    "    pk = -H@dx   # -H * gradient\n",
    "    \n",
    "    def subproblem1D(alpha):\n",
    "      return objFunc([x,y] + alpha * pk)\n",
    "    res = minimize_scalar(subproblem1D) # scipy function to minimize objFunction w.r.t alpha\n",
    "    alpha = res.x\n",
    "        \n",
    "    xnew,ynew = x + alpha*pk[0], y + alpha*pk[1]\n",
    "    path_DFP.append([xnew,ynew])\n",
    "    \n",
    "    # secant variables\n",
    "    sk = alpha*pk         # x_{k+1}-x_k   x_{k+1} = x_k + alpha * pk\n",
    "    yk = Df(xnew,ynew)-dx # Df_{k+1}-Df_k  \n",
    "    \n",
    "    # DFP update\n",
    "    vec = H@yk\n",
    "    denom1 = yk@sk\n",
    "    denom2 = yk@vec\n",
    "    H += np.outer(sk,sk)/denom1 - np.outer(vec,vec)/denom2 # np.outer(vec, vec) = vec * vec^T\n",
    "\n",
    "    x,y = xnew,ynew\n",
    "    dx = Df(x,y)\n",
    "    i += 1\n",
    "\n",
    "path_DFP=np.array(path_DFP)\n",
    "print(f'After {i} iterations, approximate minimum is {f(x,y)} at {x,y}')"
   ]
  },
  {
   "cell_type": "code",
   "execution_count": 53,
   "metadata": {},
   "outputs": [
    {
     "name": "stdout",
     "output_type": "stream",
     "text": [
      "Approximate convergence rate: 9.997557599671778\n"
     ]
    }
   ],
   "source": [
    "print('Approximate convergence rate:', approx_convergence_rate(path_DFP,[1,1],5))"
   ]
  },
  {
   "cell_type": "code",
   "execution_count": 54,
   "metadata": {},
   "outputs": [
    {
     "data": {
      "text/plain": [
       "0.00023280839890673632"
      ]
     },
     "execution_count": 54,
     "metadata": {},
     "output_type": "execute_result"
    }
   ],
   "source": [
    "err = np.linalg.norm(np.diff(path_DFP,axis=0),axis=1) # ||x_{k+1}-x_k||\n",
    "err[-1]/err[-2]"
   ]
  },
  {
   "cell_type": "markdown",
   "metadata": {},
   "source": [
    "Superlinear convergence rate"
   ]
  },
  {
   "cell_type": "code",
   "execution_count": 55,
   "metadata": {},
   "outputs": [
    {
     "name": "stdout",
     "output_type": "stream",
     "text": [
      "After 22 iterations, approximate minimum is 2.0010566028157128e-20 at (1.0000000001402927, 1.0000000002823979)\n"
     ]
    }
   ],
   "source": [
    "x,y = -1.2,1\n",
    "path_DFP = [[x,y]]\n",
    "tol = 1e-8            # stop when gradient is smaller than this amount\n",
    "max_steps = 10000     # Maximum number of steps to run the iteration\n",
    "i=0                   # iteration count\n",
    "H = np.eye(2)         # initial inverse Hessian is identity\n",
    "dx = Df(x,y)          # current gradient\n",
    "while np.linalg.norm(dx)>tol and i<max_steps:\n",
    "    pk = -H@dx   # -H * gradient\n",
    "    \n",
    "    def subproblem1D(alpha):\n",
    "      return objFunc([x,y] + alpha * pk)\n",
    "    res = minimize_scalar(subproblem1D) # scipy function to minimize objFunction w.r.t alpha\n",
    "    alpha = res.x\n",
    "        \n",
    "    xnew,ynew = x + alpha*pk[0], y + alpha*pk[1]\n",
    "    path_DFP.append([xnew,ynew])\n",
    "    \n",
    "    # secant variables\n",
    "    sk = alpha*pk         # x_{k+1}-x_k   x_{k+1} = x_k + alpha * pk\n",
    "    yk = Df(xnew,ynew)-dx # Df_{k+1}-Df_k  \n",
    "    \n",
    "    # DFP update\n",
    "    vec = H@yk\n",
    "    denom1 = yk@sk\n",
    "    denom2 = yk@vec\n",
    "    H += np.outer(sk,sk)/denom1 - np.outer(vec,vec)/denom2 # np.outer(vec, vec) = vec * vec^T\n",
    "\n",
    "    x,y = xnew,ynew\n",
    "    dx = Df(x,y)\n",
    "    i += 1\n",
    "\n",
    "path_DFP=np.array(path_DFP)\n",
    "print(f'After {i} iterations, approximate minimum is {f(x,y)} at {x,y}')"
   ]
  },
  {
   "cell_type": "code",
   "execution_count": 56,
   "metadata": {},
   "outputs": [
    {
     "name": "stdout",
     "output_type": "stream",
     "text": [
      "Approximate convergence rate: -4.20782340802865\n"
     ]
    }
   ],
   "source": [
    "print('Approximate convergence rate:', approx_convergence_rate(path_DFP,[1,1],2))"
   ]
  },
  {
   "cell_type": "code",
   "execution_count": 57,
   "metadata": {},
   "outputs": [
    {
     "data": {
      "text/plain": [
       "0.00010966746026993221"
      ]
     },
     "execution_count": 57,
     "metadata": {},
     "output_type": "execute_result"
    }
   ],
   "source": [
    "err = np.linalg.norm(np.diff(path_DFP,axis=0),axis=1) # ||x_{k+1}-x_k||\n",
    "err[-1]/err[-2]"
   ]
  },
  {
   "cell_type": "markdown",
   "metadata": {},
   "source": [
    "superlinear convergence rate"
   ]
  },
  {
   "cell_type": "markdown",
   "metadata": {},
   "source": [
    "## BFGS Method"
   ]
  },
  {
   "cell_type": "code",
   "execution_count": 58,
   "metadata": {},
   "outputs": [
    {
     "name": "stdout",
     "output_type": "stream",
     "text": [
      "After 10 iterations, approximate minimum is 1.2449211160519093e-30 at (0.9999999999999999, 0.9999999999999999)\n"
     ]
    }
   ],
   "source": [
    "x,y = 1.2,1.2    # initial point\n",
    "path_BFGS = [[x,y]]\n",
    "tol = 1e-8            # stop when gradient is smaller than this amount\n",
    "max_steps = 10000     # Maximum number of steps to run the iteration\n",
    "i=0                   # iteration count\n",
    "H = np.eye(2)         # initial inverse Hessian is identity\n",
    "dx = Df(x,y)          # current gradient\n",
    "while np.linalg.norm(dx)>tol and i<max_steps:\n",
    "    pk = -H@dx\n",
    "    \n",
    "    def subproblem1D(alpha):\n",
    "      return objFunc([x,y] + alpha * pk)\n",
    "    res = minimize_scalar(subproblem1D) # scipy function to minimize objFunction w.r.t alpha\n",
    "    alpha = res.x\n",
    "        \n",
    "    xnew,ynew = x + alpha*pk[0], y + alpha*pk[1]\n",
    "    path_BFGS.append([xnew,ynew])\n",
    "    \n",
    "    # secant variables\n",
    "    sk = alpha*pk         # x_{k+1}-x_k\n",
    "    yk = Df(xnew,ynew)-dx # Df_{k+1}-Df_k\n",
    "    \n",
    "    # BFGS update\n",
    "    vec = H@yk\n",
    "    denom = yk@sk\n",
    "    H += (denom+vec@yk)*np.outer(sk,sk)/denom**2 - (np.outer(vec,sk)+np.outer(sk,vec))/denom\n",
    "\n",
    "    x,y = xnew,ynew\n",
    "    dx = Df(x,y)\n",
    "    i += 1\n",
    "\n",
    "path_BFGS=np.array(path_BFGS)\n",
    "print(f'After {i} iterations, approximate minimum is {f(x,y)} at {x,y}')"
   ]
  },
  {
   "cell_type": "code",
   "execution_count": 59,
   "metadata": {},
   "outputs": [
    {
     "name": "stdout",
     "output_type": "stream",
     "text": [
      "Approximate convergence rate: 2.0212010565576857\n"
     ]
    }
   ],
   "source": [
    "print('Approximate convergence rate:', approx_convergence_rate(path_BFGS,[1,1],1))"
   ]
  },
  {
   "cell_type": "code",
   "execution_count": 60,
   "metadata": {},
   "outputs": [
    {
     "data": {
      "text/plain": [
       "0.0002326323557902368"
      ]
     },
     "execution_count": 60,
     "metadata": {},
     "output_type": "execute_result"
    }
   ],
   "source": [
    "err = np.linalg.norm(np.diff(path_BFGS,axis=0),axis=1) # ||x_{k+1}-x_k||\n",
    "err[-1]/err[-2]"
   ]
  },
  {
   "cell_type": "markdown",
   "metadata": {},
   "source": [
    "Superlinear convergence rate"
   ]
  },
  {
   "cell_type": "code",
   "execution_count": 61,
   "metadata": {},
   "outputs": [
    {
     "name": "stdout",
     "output_type": "stream",
     "text": [
      "After 22 iterations, approximate minimum is 2.002112254270269e-20 at (1.0000000001403309, 1.0000000002824738)\n"
     ]
    }
   ],
   "source": [
    "x,y = -1.2,1    # initial point\n",
    "path_BFGS = [[x,y]]\n",
    "tol = 1e-8            # stop when gradient is smaller than this amount\n",
    "max_steps = 10000     # Maximum number of steps to run the iteration\n",
    "i=0                   # iteration count\n",
    "H = np.eye(2)         # initial inverse Hessian is identity\n",
    "dx = Df(x,y)          # current gradient\n",
    "while np.linalg.norm(dx)>tol and i<max_steps:\n",
    "    pk = -H@dx\n",
    "    \n",
    "    def subproblem1D(alpha):\n",
    "      return objFunc([x,y] + alpha * pk)\n",
    "    res = minimize_scalar(subproblem1D) # scipy function to minimize objFunction w.r.t alpha\n",
    "    alpha = res.x\n",
    "        \n",
    "    xnew,ynew = x + alpha*pk[0], y + alpha*pk[1]\n",
    "    path_BFGS.append([xnew,ynew])\n",
    "    \n",
    "    # secant variables\n",
    "    sk = alpha*pk         # x_{k+1}-x_k\n",
    "    yk = Df(xnew,ynew)-dx # Df_{k+1}-Df_k\n",
    "    \n",
    "    # BFGS update\n",
    "    vec = H@yk\n",
    "    denom = yk@sk\n",
    "    H += (denom+vec@yk)*np.outer(sk,sk)/denom**2 - (np.outer(vec,sk)+np.outer(sk,vec))/denom\n",
    "\n",
    "    x,y = xnew,ynew\n",
    "    dx = Df(x,y)\n",
    "    i += 1\n",
    "\n",
    "path_BFGS=np.array(path_BFGS)\n",
    "print(f'After {i} iterations, approximate minimum is {f(x,y)} at {x,y}')"
   ]
  },
  {
   "cell_type": "code",
   "execution_count": 62,
   "metadata": {},
   "outputs": [
    {
     "name": "stdout",
     "output_type": "stream",
     "text": [
      "Approximate convergence rate: -8.227744871469328\n"
     ]
    }
   ],
   "source": [
    "print('Approximate convergence rate:', approx_convergence_rate(path_BFGS,[1,1],1))"
   ]
  },
  {
   "cell_type": "code",
   "execution_count": 63,
   "metadata": {},
   "outputs": [
    {
     "data": {
      "text/plain": [
       "0.00010967919824387476"
      ]
     },
     "execution_count": 63,
     "metadata": {},
     "output_type": "execute_result"
    }
   ],
   "source": [
    "err = np.linalg.norm(np.diff(path_BFGS,axis=0),axis=1) # ||x_{k+1}-x_k||\n",
    "err[-1]/err[-2]"
   ]
  },
  {
   "cell_type": "markdown",
   "metadata": {},
   "source": [
    "Superlinear convergence rate"
   ]
  },
  {
   "cell_type": "code",
   "execution_count": null,
   "metadata": {},
   "outputs": [],
   "source": []
  }
 ],
 "metadata": {
  "kernelspec": {
   "display_name": "Python 3 (ipykernel)",
   "language": "python",
   "name": "python3"
  },
  "language_info": {
   "codemirror_mode": {
    "name": "ipython",
    "version": 3
   },
   "file_extension": ".py",
   "mimetype": "text/x-python",
   "name": "python",
   "nbconvert_exporter": "python",
   "pygments_lexer": "ipython3",
   "version": "3.9.12"
  }
 },
 "nbformat": 4,
 "nbformat_minor": 4
}
