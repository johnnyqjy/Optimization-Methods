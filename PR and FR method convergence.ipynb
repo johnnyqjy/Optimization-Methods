{
 "cells": [
  {
   "cell_type": "code",
   "execution_count": 69,
   "metadata": {},
   "outputs": [],
   "source": [
    "import numpy as np  # arrays\n",
    "import matplotlib.pyplot as plt  # 2d plotting\n",
    "from numpy.linalg import norm\n",
    "from scipy.optimize import minimize_scalar #Exact line search algorithm"
   ]
  },
  {
   "cell_type": "code",
   "execution_count": 70,
   "metadata": {},
   "outputs": [],
   "source": [
    "a,b = 1,100    # parameters for Rosenbrock function\n",
    "f = lambda x,y: (a-x)**2+b*(y-x**2)**2\n",
    "Df = lambda x,y: np.array([2*(x-a)-4*b*x*(y-x**2),\n",
    "                           2*b*(y-x**2)])\n",
    "D2f = lambda x,y: np.array([[2-4*b*y+12*b*x**2,-4*b*x],\n",
    "                            [-4*b*x,2*b]])"
   ]
  },
  {
   "cell_type": "code",
   "execution_count": 71,
   "metadata": {},
   "outputs": [],
   "source": [
    "def objFunc(x): # Rosenbrock when the input is in vector form\n",
    "    return 100*(x[1] - x[0]**2)**2 + (1 - x[0])**2\n",
    "def GradObjFunc(x): # gradient of Rosenbrock\n",
    "    return np.array([400*x[0]**3-400*x[0]*x[1]+2*x[0]-2, -200*x[0]**2+200*x[1]])"
   ]
  },
  {
   "cell_type": "code",
   "execution_count": 72,
   "metadata": {},
   "outputs": [],
   "source": [
    "def PR_beta(Dfk,Dfk1, pk): #doesn't use pk, just including the parameter since other beta methods use pk\n",
    "    return ((Dfk1-Dfk)@Dfk1) / (Dfk@Dfk)\n",
    "def FR_beta(Dfk,Dfk1, pk): #doesn't use pk\n",
    "    return (Dfk1@Dfk1) / (Dfk@Dfk)"
   ]
  },
  {
   "cell_type": "code",
   "execution_count": 74,
   "metadata": {},
   "outputs": [],
   "source": [
    "def nonlinearCG(x0, y0, f, Df, beta, restart=True, tol=1e-8, max_steps=10000):\n",
    "    x,y = x0,y0\n",
    "    path = [[x,y]]\n",
    "    i=0                   # iteration count\n",
    "    dx = Df(x,y)          # current gradient\n",
    "    pk = -dx\n",
    "    while np.linalg.norm(dx)>tol and i<max_steps:    \n",
    "        def subproblem1D(alpha):\n",
    "          return objFunc([x,y] + alpha * pk)\n",
    "        res = minimize_scalar(subproblem1D) # scipy function to minimize objFunction w.r.t alpha\n",
    "        alpha = res.x\n",
    "\n",
    "        xnew,ynew = x + alpha*pk[0], y + alpha*pk[1]\n",
    "        dx1 = Df(xnew,ynew)      # Df_{k+1}\n",
    "        bk = beta(dx,dx1,pk)  # beta_k\n",
    "        if restart and i%3 == 0: #restart every 3 iterations\n",
    "            bk=0\n",
    "        pk = -dx1 + bk*pk\n",
    "        path.append([xnew,ynew])\n",
    "        x,y = xnew,ynew\n",
    "        dx = dx1\n",
    "        i += 1\n",
    "    return np.array(path), i, x, y"
   ]
  },
  {
   "cell_type": "markdown",
   "metadata": {},
   "source": [
    "## Part A"
   ]
  },
  {
   "cell_type": "code",
   "execution_count": 75,
   "metadata": {},
   "outputs": [
    {
     "name": "stdout",
     "output_type": "stream",
     "text": [
      "After 10 iterations, approximate minimum is 4.930380657631324e-29 at (1.0000000000000067, 1.0000000000000135)\n"
     ]
    }
   ],
   "source": [
    "x0,y0 = 1.2,1.2\n",
    "path_PR, i, x, y = nonlinearCG(x0, y0, f, Df, PR_beta, False)\n",
    "print(f'After {i} iterations, approximate minimum is {f(x,y)} at {x,y}')"
   ]
  },
  {
   "cell_type": "code",
   "execution_count": 76,
   "metadata": {},
   "outputs": [
    {
     "name": "stdout",
     "output_type": "stream",
     "text": [
      "L equals to  5.2523719516402525e-05\n"
     ]
    }
   ],
   "source": [
    "minimizer = [1,1]\n",
    "L = norm(path_PR[-1]-minimizer)/norm(path_PR[-2]-minimizer)\n",
    "print('L equals to ',L)"
   ]
  },
  {
   "cell_type": "code",
   "execution_count": 77,
   "metadata": {},
   "outputs": [
    {
     "name": "stdout",
     "output_type": "stream",
     "text": [
      "After 30 iterations, approximate minimum is 3.7186327915733286e-17 at (1.0000000060888288, 1.0000000122111974)\n"
     ]
    }
   ],
   "source": [
    "path_FR, i, x, y=nonlinearCG(x0, y0, f, Df, FR_beta, False)\n",
    "print(f'After {i} iterations, approximate minimum is {f(x,y)} at {x,y}')"
   ]
  },
  {
   "cell_type": "code",
   "execution_count": 78,
   "metadata": {},
   "outputs": [
    {
     "name": "stdout",
     "output_type": "stream",
     "text": [
      "L equals to  1.0035993815083593\n"
     ]
    }
   ],
   "source": [
    "L = norm(path_FR[-1]-minimizer)/norm(path_FR[-2]-minimizer)\n",
    "print('L equals to ',L)"
   ]
  },
  {
   "cell_type": "markdown",
   "metadata": {},
   "source": [
    "Without the restart algorithm, PR method converges super-linearly(L is close to 0) and FR method converges linearly (L is close to 1)."
   ]
  },
  {
   "cell_type": "markdown",
   "metadata": {},
   "source": [
    "## Part B"
   ]
  },
  {
   "cell_type": "code",
   "execution_count": 79,
   "metadata": {},
   "outputs": [
    {
     "name": "stdout",
     "output_type": "stream",
     "text": [
      "After 13 iterations, approximate minimum is 4.738095811983702e-29 at (1.0000000000000069, 1.0000000000000138)\n"
     ]
    }
   ],
   "source": [
    "path_PR, i, x, y = nonlinearCG(x0, y0, f, Df, PR_beta, True)\n",
    "print(f'After {i} iterations, approximate minimum is {f(x,y)} at {x,y}')"
   ]
  },
  {
   "cell_type": "code",
   "execution_count": 80,
   "metadata": {},
   "outputs": [
    {
     "name": "stdout",
     "output_type": "stream",
     "text": [
      "L equals to  0.0002777279224060647\n"
     ]
    }
   ],
   "source": [
    "L = norm(path_PR[-1]-minimizer)/norm(path_PR[-2]-minimizer)\n",
    "print('L equals to ',L)"
   ]
  },
  {
   "cell_type": "code",
   "execution_count": 81,
   "metadata": {},
   "outputs": [
    {
     "name": "stdout",
     "output_type": "stream",
     "text": [
      "After 10 iterations, approximate minimum is 6.296760414157414e-21 at (1.000000000079289, 1.0000000001588945)\n"
     ]
    }
   ],
   "source": [
    "path_FR, i, x, y = nonlinearCG(x0, y0, f, Df, FR_beta, True)\n",
    "print(f'After {i} iterations, approximate minimum is {f(x,y)} at {x,y}')"
   ]
  },
  {
   "cell_type": "code",
   "execution_count": 82,
   "metadata": {},
   "outputs": [
    {
     "name": "stdout",
     "output_type": "stream",
     "text": [
      "L equals to  0.3844671324519976\n"
     ]
    }
   ],
   "source": [
    "L = norm(path_FR[-1]-minimizer)/norm(path_FR[-2]-minimizer)\n",
    "print('L equals to ',L)"
   ]
  },
  {
   "cell_type": "markdown",
   "metadata": {},
   "source": [
    "With the restart algorithm, PR method converges super-linearly(L is close to 0) and FR method converges linearly. However, we see improvement in the FR method as it only takes 10 iterations rather than 30."
   ]
  },
  {
   "cell_type": "markdown",
   "metadata": {},
   "source": [
    "## Part C"
   ]
  },
  {
   "cell_type": "code",
   "execution_count": 83,
   "metadata": {},
   "outputs": [],
   "source": [
    "x0,y0 = -1.2,1"
   ]
  },
  {
   "cell_type": "code",
   "execution_count": 84,
   "metadata": {},
   "outputs": [
    {
     "name": "stdout",
     "output_type": "stream",
     "text": [
      "After 18 iterations, approximate minimum is 4.6340944995991903e-20 at (0.999999999954214, 0.9999999999294623)\n",
      "L equals to  3.0089644629520566e-05\n"
     ]
    }
   ],
   "source": [
    "path_PR, i, x, y = nonlinearCG(x0, y0, f, Df, PR_beta, False)\n",
    "print(f'After {i} iterations, approximate minimum is {f(x,y)} at {x,y}')\n",
    "L = norm(path_PR[-1]-minimizer)/norm(path_PR[-2]-minimizer)\n",
    "print('L equals to ',L)"
   ]
  },
  {
   "cell_type": "code",
   "execution_count": 85,
   "metadata": {},
   "outputs": [
    {
     "name": "stdout",
     "output_type": "stream",
     "text": [
      "After 217 iterations, approximate minimum is 1.7256039452241e-17 at (1.0000000041539983, 1.0000000083061582)\n",
      "L equals to  0.9949263127723659\n"
     ]
    }
   ],
   "source": [
    "path_FR, i, x, y = nonlinearCG(x0, y0, f, Df, FR_beta, False)\n",
    "print(f'After {i} iterations, approximate minimum is {f(x,y)} at {x,y}')\n",
    "L = norm(path_FR[-1]-minimizer)/norm(path_FR[-2]-minimizer)\n",
    "print('L equals to ',L)"
   ]
  },
  {
   "cell_type": "markdown",
   "metadata": {},
   "source": [
    "Without the restart algorithm, PR method converges super-linearly(L is close to 0) and FR method converges linearly (L is close to 1). This is similar to part a. However, changing the starting point here (farther away from the minimizer) means that the FR method takes much more iterations."
   ]
  },
  {
   "cell_type": "code",
   "execution_count": 86,
   "metadata": {},
   "outputs": [
    {
     "name": "stdout",
     "output_type": "stream",
     "text": [
      "After 27 iterations, approximate minimum is 2.4373769022542323e-22 at (0.9999999999984763, 0.9999999999985064)\n",
      "L equals to  1.546477137835673e-05\n"
     ]
    }
   ],
   "source": [
    "path_PR, i, x, y = nonlinearCG(x0, y0, f, Df, PR_beta, True)\n",
    "print(f'After {i} iterations, approximate minimum is {f(x,y)} at {x,y}')\n",
    "L = norm(path_PR[-1]-minimizer)/norm(path_PR[-2]-minimizer)\n",
    "print('L equals to ',L)"
   ]
  },
  {
   "cell_type": "code",
   "execution_count": 87,
   "metadata": {},
   "outputs": [
    {
     "name": "stdout",
     "output_type": "stream",
     "text": [
      "After 19 iterations, approximate minimum is 3.2868744030716063e-17 at (1.0000000057258882, 1.0000000114805772)\n",
      "L equals to  0.09935116422895718\n"
     ]
    }
   ],
   "source": [
    "path_FR, i, x, y = nonlinearCG(x0, y0, f, Df, FR_beta, True)\n",
    "print(f'After {i} iterations, approximate minimum is {f(x,y)} at {x,y}')\n",
    "L = norm(path_FR[-1]-minimizer)/norm(path_FR[-2]-minimizer)\n",
    "print('L equals to ',L)"
   ]
  },
  {
   "cell_type": "markdown",
   "metadata": {},
   "source": [
    "With the restart algorithm, PR method and FR method both converge super-linearly since both Ls approach 0."
   ]
  },
  {
   "cell_type": "code",
   "execution_count": null,
   "metadata": {},
   "outputs": [],
   "source": []
  }
 ],
 "metadata": {
  "kernelspec": {
   "display_name": "Python 3",
   "language": "python",
   "name": "python3"
  },
  "language_info": {
   "codemirror_mode": {
    "name": "ipython",
    "version": 3
   },
   "file_extension": ".py",
   "mimetype": "text/x-python",
   "name": "python",
   "nbconvert_exporter": "python",
   "pygments_lexer": "ipython3",
   "version": "3.8.3"
  }
 },
 "nbformat": 4,
 "nbformat_minor": 4
}
